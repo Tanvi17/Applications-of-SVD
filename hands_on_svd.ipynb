{
  "nbformat": 4,
  "nbformat_minor": 0,
  "metadata": {
    "colab": {
      "name": "hands_on_svd.ipynb",
      "provenance": [],
      "authorship_tag": "ABX9TyNVVud0s4mw6ejgXuyJkt3v"
    },
    "kernelspec": {
      "name": "python3",
      "display_name": "Python 3"
    }
  },
  "cells": [
    {
      "cell_type": "code",
      "metadata": {
        "id": "GGajAfNeWJ_Q",
        "colab_type": "code",
        "colab": {
          "base_uri": "https://localhost:8080/",
          "height": 72
        },
        "outputId": "009bf00f-e01c-4bc1-8aca-90319e3a33b2"
      },
      "source": [
        "import numpy as np\n",
        "import pandas as pd\n",
        "import seaborn as sns\n",
        "import matplotlib.pyplot as plt"
      ],
      "execution_count": 1,
      "outputs": [
        {
          "output_type": "stream",
          "text": [
            "/usr/local/lib/python3.6/dist-packages/statsmodels/tools/_testing.py:19: FutureWarning: pandas.util.testing is deprecated. Use the functions in the public API at pandas.testing instead.\n",
            "  import pandas.util.testing as tm\n"
          ],
          "name": "stderr"
        }
      ]
    },
    {
      "cell_type": "code",
      "metadata": {
        "id": "CwgzLMipWSWR",
        "colab_type": "code",
        "colab": {
          "base_uri": "https://localhost:8080/",
          "height": 235
        },
        "outputId": "0cb91527-81d5-4843-ac32-2265db58427c"
      },
      "source": [
        "data_url = \"https://goo.gl/ioc2Td\"\n",
        "df = pd.read_csv(data_url)\n",
        "df.head()"
      ],
      "execution_count": 2,
      "outputs": [
        {
          "output_type": "execute_result",
          "data": {
            "text/html": [
              "<div>\n",
              "<style scoped>\n",
              "    .dataframe tbody tr th:only-of-type {\n",
              "        vertical-align: middle;\n",
              "    }\n",
              "\n",
              "    .dataframe tbody tr th {\n",
              "        vertical-align: top;\n",
              "    }\n",
              "\n",
              "    .dataframe thead th {\n",
              "        text-align: right;\n",
              "    }\n",
              "</style>\n",
              "<table border=\"1\" class=\"dataframe\">\n",
              "  <thead>\n",
              "    <tr style=\"text-align: right;\">\n",
              "      <th></th>\n",
              "      <th>continent</th>\n",
              "      <th>country</th>\n",
              "      <th>gdpPercap_1952</th>\n",
              "      <th>gdpPercap_1957</th>\n",
              "      <th>gdpPercap_1962</th>\n",
              "      <th>gdpPercap_1967</th>\n",
              "      <th>gdpPercap_1972</th>\n",
              "      <th>gdpPercap_1977</th>\n",
              "      <th>gdpPercap_1982</th>\n",
              "      <th>gdpPercap_1987</th>\n",
              "      <th>gdpPercap_1992</th>\n",
              "      <th>gdpPercap_1997</th>\n",
              "      <th>gdpPercap_2002</th>\n",
              "      <th>gdpPercap_2007</th>\n",
              "      <th>lifeExp_1952</th>\n",
              "      <th>lifeExp_1957</th>\n",
              "      <th>lifeExp_1962</th>\n",
              "      <th>lifeExp_1967</th>\n",
              "      <th>lifeExp_1972</th>\n",
              "      <th>lifeExp_1977</th>\n",
              "      <th>lifeExp_1982</th>\n",
              "      <th>lifeExp_1987</th>\n",
              "      <th>lifeExp_1992</th>\n",
              "      <th>lifeExp_1997</th>\n",
              "      <th>lifeExp_2002</th>\n",
              "      <th>lifeExp_2007</th>\n",
              "      <th>pop_1952</th>\n",
              "      <th>pop_1957</th>\n",
              "      <th>pop_1962</th>\n",
              "      <th>pop_1967</th>\n",
              "      <th>pop_1972</th>\n",
              "      <th>pop_1977</th>\n",
              "      <th>pop_1982</th>\n",
              "      <th>pop_1987</th>\n",
              "      <th>pop_1992</th>\n",
              "      <th>pop_1997</th>\n",
              "      <th>pop_2002</th>\n",
              "      <th>pop_2007</th>\n",
              "    </tr>\n",
              "  </thead>\n",
              "  <tbody>\n",
              "    <tr>\n",
              "      <th>0</th>\n",
              "      <td>Africa</td>\n",
              "      <td>Algeria</td>\n",
              "      <td>2449.008185</td>\n",
              "      <td>3013.976023</td>\n",
              "      <td>2550.816880</td>\n",
              "      <td>3246.991771</td>\n",
              "      <td>4182.663766</td>\n",
              "      <td>4910.416756</td>\n",
              "      <td>5745.160213</td>\n",
              "      <td>5681.358539</td>\n",
              "      <td>5023.216647</td>\n",
              "      <td>4797.295051</td>\n",
              "      <td>5288.040382</td>\n",
              "      <td>6223.367465</td>\n",
              "      <td>43.077</td>\n",
              "      <td>45.685</td>\n",
              "      <td>48.303</td>\n",
              "      <td>51.407</td>\n",
              "      <td>54.518</td>\n",
              "      <td>58.014</td>\n",
              "      <td>61.368</td>\n",
              "      <td>65.799</td>\n",
              "      <td>67.744</td>\n",
              "      <td>69.152</td>\n",
              "      <td>70.994</td>\n",
              "      <td>72.301</td>\n",
              "      <td>9279525.0</td>\n",
              "      <td>10270856.0</td>\n",
              "      <td>11000948.0</td>\n",
              "      <td>12760499.0</td>\n",
              "      <td>14760787.0</td>\n",
              "      <td>17152804.0</td>\n",
              "      <td>20033753.0</td>\n",
              "      <td>23254956.0</td>\n",
              "      <td>26298373.0</td>\n",
              "      <td>29072015.0</td>\n",
              "      <td>31287142</td>\n",
              "      <td>33333216</td>\n",
              "    </tr>\n",
              "    <tr>\n",
              "      <th>1</th>\n",
              "      <td>Africa</td>\n",
              "      <td>Angola</td>\n",
              "      <td>3520.610273</td>\n",
              "      <td>3827.940465</td>\n",
              "      <td>4269.276742</td>\n",
              "      <td>5522.776375</td>\n",
              "      <td>5473.288005</td>\n",
              "      <td>3008.647355</td>\n",
              "      <td>2756.953672</td>\n",
              "      <td>2430.208311</td>\n",
              "      <td>2627.845685</td>\n",
              "      <td>2277.140884</td>\n",
              "      <td>2773.287312</td>\n",
              "      <td>4797.231267</td>\n",
              "      <td>30.015</td>\n",
              "      <td>31.999</td>\n",
              "      <td>34.000</td>\n",
              "      <td>35.985</td>\n",
              "      <td>37.928</td>\n",
              "      <td>39.483</td>\n",
              "      <td>39.942</td>\n",
              "      <td>39.906</td>\n",
              "      <td>40.647</td>\n",
              "      <td>40.963</td>\n",
              "      <td>41.003</td>\n",
              "      <td>42.731</td>\n",
              "      <td>4232095.0</td>\n",
              "      <td>4561361.0</td>\n",
              "      <td>4826015.0</td>\n",
              "      <td>5247469.0</td>\n",
              "      <td>5894858.0</td>\n",
              "      <td>6162675.0</td>\n",
              "      <td>7016384.0</td>\n",
              "      <td>7874230.0</td>\n",
              "      <td>8735988.0</td>\n",
              "      <td>9875024.0</td>\n",
              "      <td>10866106</td>\n",
              "      <td>12420476</td>\n",
              "    </tr>\n",
              "    <tr>\n",
              "      <th>2</th>\n",
              "      <td>Africa</td>\n",
              "      <td>Benin</td>\n",
              "      <td>1062.752200</td>\n",
              "      <td>959.601080</td>\n",
              "      <td>949.499064</td>\n",
              "      <td>1035.831411</td>\n",
              "      <td>1085.796879</td>\n",
              "      <td>1029.161251</td>\n",
              "      <td>1277.897616</td>\n",
              "      <td>1225.856010</td>\n",
              "      <td>1191.207681</td>\n",
              "      <td>1232.975292</td>\n",
              "      <td>1372.877931</td>\n",
              "      <td>1441.284873</td>\n",
              "      <td>38.223</td>\n",
              "      <td>40.358</td>\n",
              "      <td>42.618</td>\n",
              "      <td>44.885</td>\n",
              "      <td>47.014</td>\n",
              "      <td>49.190</td>\n",
              "      <td>50.904</td>\n",
              "      <td>52.337</td>\n",
              "      <td>53.919</td>\n",
              "      <td>54.777</td>\n",
              "      <td>54.406</td>\n",
              "      <td>56.728</td>\n",
              "      <td>1738315.0</td>\n",
              "      <td>1925173.0</td>\n",
              "      <td>2151895.0</td>\n",
              "      <td>2427334.0</td>\n",
              "      <td>2761407.0</td>\n",
              "      <td>3168267.0</td>\n",
              "      <td>3641603.0</td>\n",
              "      <td>4243788.0</td>\n",
              "      <td>4981671.0</td>\n",
              "      <td>6066080.0</td>\n",
              "      <td>7026113</td>\n",
              "      <td>8078314</td>\n",
              "    </tr>\n",
              "    <tr>\n",
              "      <th>3</th>\n",
              "      <td>Africa</td>\n",
              "      <td>Botswana</td>\n",
              "      <td>851.241141</td>\n",
              "      <td>918.232535</td>\n",
              "      <td>983.653976</td>\n",
              "      <td>1214.709294</td>\n",
              "      <td>2263.611114</td>\n",
              "      <td>3214.857818</td>\n",
              "      <td>4551.142150</td>\n",
              "      <td>6205.883850</td>\n",
              "      <td>7954.111645</td>\n",
              "      <td>8647.142313</td>\n",
              "      <td>11003.605080</td>\n",
              "      <td>12569.851770</td>\n",
              "      <td>47.622</td>\n",
              "      <td>49.618</td>\n",
              "      <td>51.520</td>\n",
              "      <td>53.298</td>\n",
              "      <td>56.024</td>\n",
              "      <td>59.319</td>\n",
              "      <td>61.484</td>\n",
              "      <td>63.622</td>\n",
              "      <td>62.745</td>\n",
              "      <td>52.556</td>\n",
              "      <td>46.634</td>\n",
              "      <td>50.728</td>\n",
              "      <td>442308.0</td>\n",
              "      <td>474639.0</td>\n",
              "      <td>512764.0</td>\n",
              "      <td>553541.0</td>\n",
              "      <td>619351.0</td>\n",
              "      <td>781472.0</td>\n",
              "      <td>970347.0</td>\n",
              "      <td>1151184.0</td>\n",
              "      <td>1342614.0</td>\n",
              "      <td>1536536.0</td>\n",
              "      <td>1630347</td>\n",
              "      <td>1639131</td>\n",
              "    </tr>\n",
              "    <tr>\n",
              "      <th>4</th>\n",
              "      <td>Africa</td>\n",
              "      <td>Burkina Faso</td>\n",
              "      <td>543.255241</td>\n",
              "      <td>617.183465</td>\n",
              "      <td>722.512021</td>\n",
              "      <td>794.826560</td>\n",
              "      <td>854.735976</td>\n",
              "      <td>743.387037</td>\n",
              "      <td>807.198586</td>\n",
              "      <td>912.063142</td>\n",
              "      <td>931.752773</td>\n",
              "      <td>946.294962</td>\n",
              "      <td>1037.645221</td>\n",
              "      <td>1217.032994</td>\n",
              "      <td>31.975</td>\n",
              "      <td>34.906</td>\n",
              "      <td>37.814</td>\n",
              "      <td>40.697</td>\n",
              "      <td>43.591</td>\n",
              "      <td>46.137</td>\n",
              "      <td>48.122</td>\n",
              "      <td>49.557</td>\n",
              "      <td>50.260</td>\n",
              "      <td>50.324</td>\n",
              "      <td>50.650</td>\n",
              "      <td>52.295</td>\n",
              "      <td>4469979.0</td>\n",
              "      <td>4713416.0</td>\n",
              "      <td>4919632.0</td>\n",
              "      <td>5127935.0</td>\n",
              "      <td>5433886.0</td>\n",
              "      <td>5889574.0</td>\n",
              "      <td>6634596.0</td>\n",
              "      <td>7586551.0</td>\n",
              "      <td>8878303.0</td>\n",
              "      <td>10352843.0</td>\n",
              "      <td>12251209</td>\n",
              "      <td>14326203</td>\n",
              "    </tr>\n",
              "  </tbody>\n",
              "</table>\n",
              "</div>"
            ],
            "text/plain": [
              "  continent       country  gdpPercap_1952  ...    pop_1997  pop_2002  pop_2007\n",
              "0    Africa       Algeria     2449.008185  ...  29072015.0  31287142  33333216\n",
              "1    Africa        Angola     3520.610273  ...   9875024.0  10866106  12420476\n",
              "2    Africa         Benin     1062.752200  ...   6066080.0   7026113   8078314\n",
              "3    Africa      Botswana      851.241141  ...   1536536.0   1630347   1639131\n",
              "4    Africa  Burkina Faso      543.255241  ...  10352843.0  12251209  14326203\n",
              "\n",
              "[5 rows x 38 columns]"
            ]
          },
          "metadata": {
            "tags": []
          },
          "execution_count": 2
        }
      ]
    },
    {
      "cell_type": "code",
      "metadata": {
        "id": "rLxbqbUWWScC",
        "colab_type": "code",
        "colab": {
          "base_uri": "https://localhost:8080/",
          "height": 35
        },
        "outputId": "0ada2627-2929-4eb9-8d81-08d6c0775d74"
      },
      "source": [
        "df.shape"
      ],
      "execution_count": 4,
      "outputs": [
        {
          "output_type": "execute_result",
          "data": {
            "text/plain": [
              "(142, 38)"
            ]
          },
          "metadata": {
            "tags": []
          },
          "execution_count": 4
        }
      ]
    },
    {
      "cell_type": "code",
      "metadata": {
        "id": "wotapIiFWSZJ",
        "colab_type": "code",
        "colab": {
          "base_uri": "https://localhost:8080/",
          "height": 190
        },
        "outputId": "975eac39-dcb5-4e98-cc80-809062977e18"
      },
      "source": [
        "df.columns"
      ],
      "execution_count": 3,
      "outputs": [
        {
          "output_type": "execute_result",
          "data": {
            "text/plain": [
              "Index(['continent', 'country', 'gdpPercap_1952', 'gdpPercap_1957',\n",
              "       'gdpPercap_1962', 'gdpPercap_1967', 'gdpPercap_1972', 'gdpPercap_1977',\n",
              "       'gdpPercap_1982', 'gdpPercap_1987', 'gdpPercap_1992', 'gdpPercap_1997',\n",
              "       'gdpPercap_2002', 'gdpPercap_2007', 'lifeExp_1952', 'lifeExp_1957',\n",
              "       'lifeExp_1962', 'lifeExp_1967', 'lifeExp_1972', 'lifeExp_1977',\n",
              "       'lifeExp_1982', 'lifeExp_1987', 'lifeExp_1992', 'lifeExp_1997',\n",
              "       'lifeExp_2002', 'lifeExp_2007', 'pop_1952', 'pop_1957', 'pop_1962',\n",
              "       'pop_1967', 'pop_1972', 'pop_1977', 'pop_1982', 'pop_1987', 'pop_1992',\n",
              "       'pop_1997', 'pop_2002', 'pop_2007'],\n",
              "      dtype='object')"
            ]
          },
          "metadata": {
            "tags": []
          },
          "execution_count": 3
        }
      ]
    },
    {
      "cell_type": "code",
      "metadata": {
        "id": "RGPjcTJ6YuHv",
        "colab_type": "code",
        "colab": {
          "base_uri": "https://localhost:8080/",
          "height": 35
        },
        "outputId": "3f582fae-79d8-47e0-a76c-941620bd2772"
      },
      "source": [
        "df.continent.unique()"
      ],
      "execution_count": 9,
      "outputs": [
        {
          "output_type": "execute_result",
          "data": {
            "text/plain": [
              "array(['Africa', 'Americas', 'Asia', 'Europe', 'Oceania'], dtype=object)"
            ]
          },
          "metadata": {
            "tags": []
          },
          "execution_count": 9
        }
      ]
    },
    {
      "cell_type": "code",
      "metadata": {
        "id": "35jWjJMpWv2q",
        "colab_type": "code",
        "colab": {
          "base_uri": "https://localhost:8080/",
          "height": 218
        },
        "outputId": "7552a3bf-40f2-4db3-eb38-db4f89ec754d"
      },
      "source": [
        "lifeExp = df.loc[:, df.columns.str.contains('^life')]\n",
        "lifeExp.head()"
      ],
      "execution_count": 10,
      "outputs": [
        {
          "output_type": "execute_result",
          "data": {
            "text/html": [
              "<div>\n",
              "<style scoped>\n",
              "    .dataframe tbody tr th:only-of-type {\n",
              "        vertical-align: middle;\n",
              "    }\n",
              "\n",
              "    .dataframe tbody tr th {\n",
              "        vertical-align: top;\n",
              "    }\n",
              "\n",
              "    .dataframe thead th {\n",
              "        text-align: right;\n",
              "    }\n",
              "</style>\n",
              "<table border=\"1\" class=\"dataframe\">\n",
              "  <thead>\n",
              "    <tr style=\"text-align: right;\">\n",
              "      <th></th>\n",
              "      <th>lifeExp_1952</th>\n",
              "      <th>lifeExp_1957</th>\n",
              "      <th>lifeExp_1962</th>\n",
              "      <th>lifeExp_1967</th>\n",
              "      <th>lifeExp_1972</th>\n",
              "      <th>lifeExp_1977</th>\n",
              "      <th>lifeExp_1982</th>\n",
              "      <th>lifeExp_1987</th>\n",
              "      <th>lifeExp_1992</th>\n",
              "      <th>lifeExp_1997</th>\n",
              "      <th>lifeExp_2002</th>\n",
              "      <th>lifeExp_2007</th>\n",
              "    </tr>\n",
              "  </thead>\n",
              "  <tbody>\n",
              "    <tr>\n",
              "      <th>0</th>\n",
              "      <td>43.077</td>\n",
              "      <td>45.685</td>\n",
              "      <td>48.303</td>\n",
              "      <td>51.407</td>\n",
              "      <td>54.518</td>\n",
              "      <td>58.014</td>\n",
              "      <td>61.368</td>\n",
              "      <td>65.799</td>\n",
              "      <td>67.744</td>\n",
              "      <td>69.152</td>\n",
              "      <td>70.994</td>\n",
              "      <td>72.301</td>\n",
              "    </tr>\n",
              "    <tr>\n",
              "      <th>1</th>\n",
              "      <td>30.015</td>\n",
              "      <td>31.999</td>\n",
              "      <td>34.000</td>\n",
              "      <td>35.985</td>\n",
              "      <td>37.928</td>\n",
              "      <td>39.483</td>\n",
              "      <td>39.942</td>\n",
              "      <td>39.906</td>\n",
              "      <td>40.647</td>\n",
              "      <td>40.963</td>\n",
              "      <td>41.003</td>\n",
              "      <td>42.731</td>\n",
              "    </tr>\n",
              "    <tr>\n",
              "      <th>2</th>\n",
              "      <td>38.223</td>\n",
              "      <td>40.358</td>\n",
              "      <td>42.618</td>\n",
              "      <td>44.885</td>\n",
              "      <td>47.014</td>\n",
              "      <td>49.190</td>\n",
              "      <td>50.904</td>\n",
              "      <td>52.337</td>\n",
              "      <td>53.919</td>\n",
              "      <td>54.777</td>\n",
              "      <td>54.406</td>\n",
              "      <td>56.728</td>\n",
              "    </tr>\n",
              "    <tr>\n",
              "      <th>3</th>\n",
              "      <td>47.622</td>\n",
              "      <td>49.618</td>\n",
              "      <td>51.520</td>\n",
              "      <td>53.298</td>\n",
              "      <td>56.024</td>\n",
              "      <td>59.319</td>\n",
              "      <td>61.484</td>\n",
              "      <td>63.622</td>\n",
              "      <td>62.745</td>\n",
              "      <td>52.556</td>\n",
              "      <td>46.634</td>\n",
              "      <td>50.728</td>\n",
              "    </tr>\n",
              "    <tr>\n",
              "      <th>4</th>\n",
              "      <td>31.975</td>\n",
              "      <td>34.906</td>\n",
              "      <td>37.814</td>\n",
              "      <td>40.697</td>\n",
              "      <td>43.591</td>\n",
              "      <td>46.137</td>\n",
              "      <td>48.122</td>\n",
              "      <td>49.557</td>\n",
              "      <td>50.260</td>\n",
              "      <td>50.324</td>\n",
              "      <td>50.650</td>\n",
              "      <td>52.295</td>\n",
              "    </tr>\n",
              "  </tbody>\n",
              "</table>\n",
              "</div>"
            ],
            "text/plain": [
              "   lifeExp_1952  lifeExp_1957  ...  lifeExp_2002  lifeExp_2007\n",
              "0        43.077        45.685  ...        70.994        72.301\n",
              "1        30.015        31.999  ...        41.003        42.731\n",
              "2        38.223        40.358  ...        54.406        56.728\n",
              "3        47.622        49.618  ...        46.634        50.728\n",
              "4        31.975        34.906  ...        50.650        52.295\n",
              "\n",
              "[5 rows x 12 columns]"
            ]
          },
          "metadata": {
            "tags": []
          },
          "execution_count": 10
        }
      ]
    },
    {
      "cell_type": "code",
      "metadata": {
        "id": "qoLiIbryZ_NA",
        "colab_type": "code",
        "colab": {
          "base_uri": "https://localhost:8080/",
          "height": 104
        },
        "outputId": "b8ecceb8-ca40-4c06-b338-a1e6c83f9355"
      },
      "source": [
        "lifeExp.shape, lifeExp.columns"
      ],
      "execution_count": 12,
      "outputs": [
        {
          "output_type": "execute_result",
          "data": {
            "text/plain": [
              "((142, 12),\n",
              " Index(['lifeExp_1952', 'lifeExp_1957', 'lifeExp_1962', 'lifeExp_1967',\n",
              "        'lifeExp_1972', 'lifeExp_1977', 'lifeExp_1982', 'lifeExp_1987',\n",
              "        'lifeExp_1992', 'lifeExp_1997', 'lifeExp_2002', 'lifeExp_2007'],\n",
              "       dtype='object'))"
            ]
          },
          "metadata": {
            "tags": []
          },
          "execution_count": 12
        }
      ]
    },
    {
      "cell_type": "code",
      "metadata": {
        "id": "-wzPobXoYuK3",
        "colab_type": "code",
        "colab": {
          "base_uri": "https://localhost:8080/",
          "height": 198
        },
        "outputId": "683eae06-5baa-4b5b-b8d1-74a8b0157b6b"
      },
      "source": [
        "lifeExp_meta = df.loc[:, df.columns.str.contains('^c')]\n",
        "lifeExp_meta.head()"
      ],
      "execution_count": 11,
      "outputs": [
        {
          "output_type": "execute_result",
          "data": {
            "text/html": [
              "<div>\n",
              "<style scoped>\n",
              "    .dataframe tbody tr th:only-of-type {\n",
              "        vertical-align: middle;\n",
              "    }\n",
              "\n",
              "    .dataframe tbody tr th {\n",
              "        vertical-align: top;\n",
              "    }\n",
              "\n",
              "    .dataframe thead th {\n",
              "        text-align: right;\n",
              "    }\n",
              "</style>\n",
              "<table border=\"1\" class=\"dataframe\">\n",
              "  <thead>\n",
              "    <tr style=\"text-align: right;\">\n",
              "      <th></th>\n",
              "      <th>continent</th>\n",
              "      <th>country</th>\n",
              "    </tr>\n",
              "  </thead>\n",
              "  <tbody>\n",
              "    <tr>\n",
              "      <th>0</th>\n",
              "      <td>Africa</td>\n",
              "      <td>Algeria</td>\n",
              "    </tr>\n",
              "    <tr>\n",
              "      <th>1</th>\n",
              "      <td>Africa</td>\n",
              "      <td>Angola</td>\n",
              "    </tr>\n",
              "    <tr>\n",
              "      <th>2</th>\n",
              "      <td>Africa</td>\n",
              "      <td>Benin</td>\n",
              "    </tr>\n",
              "    <tr>\n",
              "      <th>3</th>\n",
              "      <td>Africa</td>\n",
              "      <td>Botswana</td>\n",
              "    </tr>\n",
              "    <tr>\n",
              "      <th>4</th>\n",
              "      <td>Africa</td>\n",
              "      <td>Burkina Faso</td>\n",
              "    </tr>\n",
              "  </tbody>\n",
              "</table>\n",
              "</div>"
            ],
            "text/plain": [
              "  continent       country\n",
              "0    Africa       Algeria\n",
              "1    Africa        Angola\n",
              "2    Africa         Benin\n",
              "3    Africa      Botswana\n",
              "4    Africa  Burkina Faso"
            ]
          },
          "metadata": {
            "tags": []
          },
          "execution_count": 11
        }
      ]
    },
    {
      "cell_type": "code",
      "metadata": {
        "id": "PbkyA60OYuNr",
        "colab_type": "code",
        "colab": {
          "base_uri": "https://localhost:8080/",
          "height": 52
        },
        "outputId": "2e4cfe00-4d1b-465c-f114-dbcb721dcba8"
      },
      "source": [
        "lifeExp_meta.shape, lifeExp_meta.continent.unique()"
      ],
      "execution_count": 14,
      "outputs": [
        {
          "output_type": "execute_result",
          "data": {
            "text/plain": [
              "((142, 2),\n",
              " array(['Africa', 'Americas', 'Asia', 'Europe', 'Oceania'], dtype=object))"
            ]
          },
          "metadata": {
            "tags": []
          },
          "execution_count": 14
        }
      ]
    },
    {
      "cell_type": "code",
      "metadata": {
        "id": "zQdWhOicYuQ6",
        "colab_type": "code",
        "colab": {
          "base_uri": "https://localhost:8080/",
          "height": 228
        },
        "outputId": "cd959c8e-4b2b-40ac-bc42-897c675de4c1"
      },
      "source": [
        "grp = lifeExp_meta.groupby('continent').agg(lambda x: x.tolist())\n",
        "grp"
      ],
      "execution_count": 18,
      "outputs": [
        {
          "output_type": "execute_result",
          "data": {
            "text/html": [
              "<div>\n",
              "<style scoped>\n",
              "    .dataframe tbody tr th:only-of-type {\n",
              "        vertical-align: middle;\n",
              "    }\n",
              "\n",
              "    .dataframe tbody tr th {\n",
              "        vertical-align: top;\n",
              "    }\n",
              "\n",
              "    .dataframe thead th {\n",
              "        text-align: right;\n",
              "    }\n",
              "</style>\n",
              "<table border=\"1\" class=\"dataframe\">\n",
              "  <thead>\n",
              "    <tr style=\"text-align: right;\">\n",
              "      <th></th>\n",
              "      <th>country</th>\n",
              "    </tr>\n",
              "    <tr>\n",
              "      <th>continent</th>\n",
              "      <th></th>\n",
              "    </tr>\n",
              "  </thead>\n",
              "  <tbody>\n",
              "    <tr>\n",
              "      <th>Africa</th>\n",
              "      <td>[Algeria, Angola, Benin, Botswana, Burkina Fas...</td>\n",
              "    </tr>\n",
              "    <tr>\n",
              "      <th>Americas</th>\n",
              "      <td>[Argentina, Bolivia, Brazil, Canada, Chile, Co...</td>\n",
              "    </tr>\n",
              "    <tr>\n",
              "      <th>Asia</th>\n",
              "      <td>[Afghanistan, Bahrain, Bangladesh, Cambodia, C...</td>\n",
              "    </tr>\n",
              "    <tr>\n",
              "      <th>Europe</th>\n",
              "      <td>[Albania, Austria, Belgium, Bosnia and Herzego...</td>\n",
              "    </tr>\n",
              "    <tr>\n",
              "      <th>Oceania</th>\n",
              "      <td>[Australia, New Zealand]</td>\n",
              "    </tr>\n",
              "  </tbody>\n",
              "</table>\n",
              "</div>"
            ],
            "text/plain": [
              "                                                     country\n",
              "continent                                                   \n",
              "Africa     [Algeria, Angola, Benin, Botswana, Burkina Fas...\n",
              "Americas   [Argentina, Bolivia, Brazil, Canada, Chile, Co...\n",
              "Asia       [Afghanistan, Bahrain, Bangladesh, Cambodia, C...\n",
              "Europe     [Albania, Austria, Belgium, Bosnia and Herzego...\n",
              "Oceania                             [Australia, New Zealand]"
            ]
          },
          "metadata": {
            "tags": []
          },
          "execution_count": 18
        }
      ]
    },
    {
      "cell_type": "code",
      "metadata": {
        "id": "paxmmSX2YuT1",
        "colab_type": "code",
        "colab": {
          "base_uri": "https://localhost:8080/",
          "height": 218
        },
        "outputId": "dff31f57-5990-4666-871f-4bbac5c5ade0"
      },
      "source": [
        "lifeExp_scaled = (lifeExp-lifeExp.mean())/lifeExp.std()\n",
        "lifeExp_scaled.head()"
      ],
      "execution_count": 20,
      "outputs": [
        {
          "output_type": "execute_result",
          "data": {
            "text/html": [
              "<div>\n",
              "<style scoped>\n",
              "    .dataframe tbody tr th:only-of-type {\n",
              "        vertical-align: middle;\n",
              "    }\n",
              "\n",
              "    .dataframe tbody tr th {\n",
              "        vertical-align: top;\n",
              "    }\n",
              "\n",
              "    .dataframe thead th {\n",
              "        text-align: right;\n",
              "    }\n",
              "</style>\n",
              "<table border=\"1\" class=\"dataframe\">\n",
              "  <thead>\n",
              "    <tr style=\"text-align: right;\">\n",
              "      <th></th>\n",
              "      <th>lifeExp_1952</th>\n",
              "      <th>lifeExp_1957</th>\n",
              "      <th>lifeExp_1962</th>\n",
              "      <th>lifeExp_1967</th>\n",
              "      <th>lifeExp_1972</th>\n",
              "      <th>lifeExp_1977</th>\n",
              "      <th>lifeExp_1982</th>\n",
              "      <th>lifeExp_1987</th>\n",
              "      <th>lifeExp_1992</th>\n",
              "      <th>lifeExp_1997</th>\n",
              "      <th>lifeExp_2002</th>\n",
              "      <th>lifeExp_2007</th>\n",
              "    </tr>\n",
              "  </thead>\n",
              "  <tbody>\n",
              "    <tr>\n",
              "      <th>0</th>\n",
              "      <td>-0.489174</td>\n",
              "      <td>-0.476025</td>\n",
              "      <td>-0.438633</td>\n",
              "      <td>-0.364480</td>\n",
              "      <td>-0.274943</td>\n",
              "      <td>-0.138606</td>\n",
              "      <td>-0.015338</td>\n",
              "      <td>0.245009</td>\n",
              "      <td>0.319190</td>\n",
              "      <td>0.357917</td>\n",
              "      <td>0.431527</td>\n",
              "      <td>0.438463</td>\n",
              "    </tr>\n",
              "    <tr>\n",
              "      <th>1</th>\n",
              "      <td>-1.557557</td>\n",
              "      <td>-1.594959</td>\n",
              "      <td>-1.620968</td>\n",
              "      <td>-1.680479</td>\n",
              "      <td>-1.732513</td>\n",
              "      <td>-1.789146</td>\n",
              "      <td>-2.004639</td>\n",
              "      <td>-2.207842</td>\n",
              "      <td>-2.094285</td>\n",
              "      <td>-2.080696</td>\n",
              "      <td>-2.010772</td>\n",
              "      <td>-2.010799</td>\n",
              "    </tr>\n",
              "    <tr>\n",
              "      <th>2</th>\n",
              "      <td>-0.886198</td>\n",
              "      <td>-0.911548</td>\n",
              "      <td>-0.908575</td>\n",
              "      <td>-0.921019</td>\n",
              "      <td>-0.934232</td>\n",
              "      <td>-0.924552</td>\n",
              "      <td>-0.986870</td>\n",
              "      <td>-1.030250</td>\n",
              "      <td>-0.912175</td>\n",
              "      <td>-0.885655</td>\n",
              "      <td>-0.919307</td>\n",
              "      <td>-0.851438</td>\n",
              "    </tr>\n",
              "    <tr>\n",
              "      <th>3</th>\n",
              "      <td>-0.117424</td>\n",
              "      <td>-0.154473</td>\n",
              "      <td>-0.172705</td>\n",
              "      <td>-0.203116</td>\n",
              "      <td>-0.142628</td>\n",
              "      <td>-0.022370</td>\n",
              "      <td>-0.004568</td>\n",
              "      <td>0.038781</td>\n",
              "      <td>-0.126061</td>\n",
              "      <td>-1.077792</td>\n",
              "      <td>-1.552215</td>\n",
              "      <td>-1.348413</td>\n",
              "    </tr>\n",
              "    <tr>\n",
              "      <th>4</th>\n",
              "      <td>-1.397242</td>\n",
              "      <td>-1.357290</td>\n",
              "      <td>-1.305690</td>\n",
              "      <td>-1.278392</td>\n",
              "      <td>-1.234971</td>\n",
              "      <td>-1.196480</td>\n",
              "      <td>-1.245165</td>\n",
              "      <td>-1.293600</td>\n",
              "      <td>-1.238075</td>\n",
              "      <td>-1.270881</td>\n",
              "      <td>-1.225174</td>\n",
              "      <td>-1.218620</td>\n",
              "    </tr>\n",
              "  </tbody>\n",
              "</table>\n",
              "</div>"
            ],
            "text/plain": [
              "   lifeExp_1952  lifeExp_1957  ...  lifeExp_2002  lifeExp_2007\n",
              "0     -0.489174     -0.476025  ...      0.431527      0.438463\n",
              "1     -1.557557     -1.594959  ...     -2.010772     -2.010799\n",
              "2     -0.886198     -0.911548  ...     -0.919307     -0.851438\n",
              "3     -0.117424     -0.154473  ...     -1.552215     -1.348413\n",
              "4     -1.397242     -1.357290  ...     -1.225174     -1.218620\n",
              "\n",
              "[5 rows x 12 columns]"
            ]
          },
          "metadata": {
            "tags": []
          },
          "execution_count": 20
        }
      ]
    },
    {
      "cell_type": "code",
      "metadata": {
        "id": "3At2nZglYuY8",
        "colab_type": "code",
        "colab": {
          "base_uri": "https://localhost:8080/",
          "height": 308
        },
        "outputId": "4a38a11e-74be-42e0-87fd-62efab7ca371"
      },
      "source": [
        "lifeExp_scaled.describe()"
      ],
      "execution_count": 25,
      "outputs": [
        {
          "output_type": "execute_result",
          "data": {
            "text/html": [
              "<div>\n",
              "<style scoped>\n",
              "    .dataframe tbody tr th:only-of-type {\n",
              "        vertical-align: middle;\n",
              "    }\n",
              "\n",
              "    .dataframe tbody tr th {\n",
              "        vertical-align: top;\n",
              "    }\n",
              "\n",
              "    .dataframe thead th {\n",
              "        text-align: right;\n",
              "    }\n",
              "</style>\n",
              "<table border=\"1\" class=\"dataframe\">\n",
              "  <thead>\n",
              "    <tr style=\"text-align: right;\">\n",
              "      <th></th>\n",
              "      <th>lifeExp_1952</th>\n",
              "      <th>lifeExp_1957</th>\n",
              "      <th>lifeExp_1962</th>\n",
              "      <th>lifeExp_1967</th>\n",
              "      <th>lifeExp_1972</th>\n",
              "      <th>lifeExp_1977</th>\n",
              "      <th>lifeExp_1982</th>\n",
              "      <th>lifeExp_1987</th>\n",
              "      <th>lifeExp_1992</th>\n",
              "      <th>lifeExp_1997</th>\n",
              "      <th>lifeExp_2002</th>\n",
              "      <th>lifeExp_2007</th>\n",
              "    </tr>\n",
              "  </thead>\n",
              "  <tbody>\n",
              "    <tr>\n",
              "      <th>count</th>\n",
              "      <td>1.420000e+02</td>\n",
              "      <td>1.420000e+02</td>\n",
              "      <td>1.420000e+02</td>\n",
              "      <td>1.420000e+02</td>\n",
              "      <td>1.420000e+02</td>\n",
              "      <td>1.420000e+02</td>\n",
              "      <td>1.420000e+02</td>\n",
              "      <td>1.420000e+02</td>\n",
              "      <td>1.420000e+02</td>\n",
              "      <td>1.420000e+02</td>\n",
              "      <td>1.420000e+02</td>\n",
              "      <td>1.420000e+02</td>\n",
              "    </tr>\n",
              "    <tr>\n",
              "      <th>mean</th>\n",
              "      <td>1.978073e-15</td>\n",
              "      <td>1.035166e-15</td>\n",
              "      <td>-1.454236e-15</td>\n",
              "      <td>-5.957676e-16</td>\n",
              "      <td>-1.724755e-15</td>\n",
              "      <td>5.003822e-16</td>\n",
              "      <td>1.014838e-15</td>\n",
              "      <td>-4.143790e-16</td>\n",
              "      <td>2.017166e-15</td>\n",
              "      <td>-4.550351e-16</td>\n",
              "      <td>-1.804503e-15</td>\n",
              "      <td>-7.255542e-16</td>\n",
              "    </tr>\n",
              "    <tr>\n",
              "      <th>std</th>\n",
              "      <td>1.000000e+00</td>\n",
              "      <td>1.000000e+00</td>\n",
              "      <td>1.000000e+00</td>\n",
              "      <td>1.000000e+00</td>\n",
              "      <td>1.000000e+00</td>\n",
              "      <td>1.000000e+00</td>\n",
              "      <td>1.000000e+00</td>\n",
              "      <td>1.000000e+00</td>\n",
              "      <td>1.000000e+00</td>\n",
              "      <td>1.000000e+00</td>\n",
              "      <td>1.000000e+00</td>\n",
              "      <td>1.000000e+00</td>\n",
              "    </tr>\n",
              "    <tr>\n",
              "      <th>min</th>\n",
              "      <td>-1.656854e+00</td>\n",
              "      <td>-1.731249e+00</td>\n",
              "      <td>-1.786543e+00</td>\n",
              "      <td>-1.848157e+00</td>\n",
              "      <td>-1.954619e+00</td>\n",
              "      <td>-2.525125e+00</td>\n",
              "      <td>-2.143628e+00</td>\n",
              "      <td>-2.207842e+00</td>\n",
              "      <td>-3.612716e+00</td>\n",
              "      <td>-2.502516e+00</td>\n",
              "      <td>-2.158168e+00</td>\n",
              "      <td>-2.269061e+00</td>\n",
              "    </tr>\n",
              "    <tr>\n",
              "      <th>25%</th>\n",
              "      <td>-8.178191e-01</td>\n",
              "      <td>-8.388244e-01</td>\n",
              "      <td>-8.382693e-01</td>\n",
              "      <td>-8.229931e-01</td>\n",
              "      <td>-8.036526e-01</td>\n",
              "      <td>-8.100536e-01</td>\n",
              "      <td>-7.978370e-01</td>\n",
              "      <td>-7.835960e-01</td>\n",
              "      <td>-7.159808e-01</td>\n",
              "      <td>-8.115382e-01</td>\n",
              "      <td>-8.284055e-01</td>\n",
              "      <td>-8.156345e-01</td>\n",
              "    </tr>\n",
              "    <tr>\n",
              "      <th>50%</th>\n",
              "      <td>-3.208027e-01</td>\n",
              "      <td>-2.572829e-01</td>\n",
              "      <td>-2.255265e-01</td>\n",
              "      <td>-1.581459e-01</td>\n",
              "      <td>-9.817177e-02</td>\n",
              "      <td>9.071030e-03</td>\n",
              "      <td>8.433154e-02</td>\n",
              "      <td>2.483248e-01</td>\n",
              "      <td>3.155377e-01</td>\n",
              "      <td>3.788526e-01</td>\n",
              "      <td>4.178055e-01</td>\n",
              "      <td>4.081893e-01</td>\n",
              "    </tr>\n",
              "    <tr>\n",
              "      <th>75%</th>\n",
              "      <td>8.757909e-01</td>\n",
              "      <td>9.426113e-01</td>\n",
              "      <td>9.609833e-01</td>\n",
              "      <td>1.001907e+00</td>\n",
              "      <td>1.019167e+00</td>\n",
              "      <td>9.630464e-01</td>\n",
              "      <td>8.716355e-01</td>\n",
              "      <td>8.208036e-01</td>\n",
              "      <td>7.501449e-01</td>\n",
              "      <td>7.919998e-01</td>\n",
              "      <td>7.951522e-01</td>\n",
              "      <td>7.790782e-01</td>\n",
              "    </tr>\n",
              "    <tr>\n",
              "      <th>max</th>\n",
              "      <td>1.931332e+00</td>\n",
              "      <td>1.795608e+00</td>\n",
              "      <td>1.659118e+00</td>\n",
              "      <td>1.577091e+00</td>\n",
              "      <td>1.499972e+00</td>\n",
              "      <td>1.473190e+00</td>\n",
              "      <td>1.446231e+00</td>\n",
              "      <td>1.464283e+00</td>\n",
              "      <td>1.353803e+00</td>\n",
              "      <td>1.356063e+00</td>\n",
              "      <td>1.327794e+00</td>\n",
              "      <td>1.291771e+00</td>\n",
              "    </tr>\n",
              "  </tbody>\n",
              "</table>\n",
              "</div>"
            ],
            "text/plain": [
              "       lifeExp_1952  lifeExp_1957  ...  lifeExp_2002  lifeExp_2007\n",
              "count  1.420000e+02  1.420000e+02  ...  1.420000e+02  1.420000e+02\n",
              "mean   1.978073e-15  1.035166e-15  ... -1.804503e-15 -7.255542e-16\n",
              "std    1.000000e+00  1.000000e+00  ...  1.000000e+00  1.000000e+00\n",
              "min   -1.656854e+00 -1.731249e+00  ... -2.158168e+00 -2.269061e+00\n",
              "25%   -8.178191e-01 -8.388244e-01  ... -8.284055e-01 -8.156345e-01\n",
              "50%   -3.208027e-01 -2.572829e-01  ...  4.178055e-01  4.081893e-01\n",
              "75%    8.757909e-01  9.426113e-01  ...  7.951522e-01  7.790782e-01\n",
              "max    1.931332e+00  1.795608e+00  ...  1.327794e+00  1.291771e+00\n",
              "\n",
              "[8 rows x 12 columns]"
            ]
          },
          "metadata": {
            "tags": []
          },
          "execution_count": 25
        }
      ]
    },
    {
      "cell_type": "markdown",
      "metadata": {
        "id": "uclgu5CacM3n",
        "colab_type": "text"
      },
      "source": [
        "### Perform SVD"
      ]
    },
    {
      "cell_type": "code",
      "metadata": {
        "id": "rwt_GdATYucL",
        "colab_type": "code",
        "colab": {
          "base_uri": "https://localhost:8080/",
          "height": 35
        },
        "outputId": "5b4a4bdd-3e02-4a06-df9e-4efb57531735"
      },
      "source": [
        "U, S, Vh = np.linalg.svd(lifeExp_scaled, full_matrices=True)\n",
        "\n",
        "U.shape, S.shape, Vh.shape"
      ],
      "execution_count": 26,
      "outputs": [
        {
          "output_type": "execute_result",
          "data": {
            "text/plain": [
              "((142, 142), (12,), (12, 12))"
            ]
          },
          "metadata": {
            "tags": []
          },
          "execution_count": 26
        }
      ]
    },
    {
      "cell_type": "markdown",
      "metadata": {
        "id": "J3lA88FhcnRS",
        "colab_type": "text"
      },
      "source": [
        "The output of SVD is three matrices, **u, s,** and **v**. The matrices **u** and **v** are singular vectors and **s** is singular values.\n",
        "\n",
        "Singular values help us compute variance explained by each singular vectors. We can visualize the percent variance explained by each singular vector or PC to understand the structure in the data."
      ]
    },
    {
      "cell_type": "code",
      "metadata": {
        "id": "6UpXprMyYue0",
        "colab_type": "code",
        "colab": {
          "base_uri": "https://localhost:8080/",
          "height": 52
        },
        "outputId": "d01ced70-ca3d-468e-beac-f93aa92b908a"
      },
      "source": [
        "variance = np.round(S**2/np.sum(S**2), decimals=3)\n",
        "variance"
      ],
      "execution_count": 27,
      "outputs": [
        {
          "output_type": "execute_result",
          "data": {
            "text/plain": [
              "array([0.923, 0.056, 0.013, 0.004, 0.001, 0.001, 0.001, 0.   , 0.   ,\n",
              "       0.   , 0.   , 0.   ])"
            ]
          },
          "metadata": {
            "tags": []
          },
          "execution_count": 27
        }
      ]
    },
    {
      "cell_type": "code",
      "metadata": {
        "id": "vW8hoLU5YuiB",
        "colab_type": "code",
        "colab": {
          "base_uri": "https://localhost:8080/",
          "height": 301
        },
        "outputId": "cabcb7de-35b3-47ec-a18b-83602dbaa45e"
      },
      "source": [
        "sns.barplot(x = list(range(1, len(variance)+1)),\n",
        "            y = variance)\n",
        "plt.xlabel('Singular Vectors', fontsize=16)\n",
        "plt.ylabel('Percent Variance', fontsize=16)"
      ],
      "execution_count": 30,
      "outputs": [
        {
          "output_type": "execute_result",
          "data": {
            "text/plain": [
              "Text(0, 0.5, 'Percent Variance')"
            ]
          },
          "metadata": {
            "tags": []
          },
          "execution_count": 30
        },
        {
          "output_type": "display_data",
          "data": {
            "image/png": "[encoded data removed]",
            "text/plain": [
              "<Figure size 432x288 with 1 Axes>"
            ]
          },
          "metadata": {
            "tags": [],
            "needs_background": "light"
          }
        }
      ]
    },
    {
      "cell_type": "markdown",
      "metadata": {
        "id": "fHQ1zxKefbEI",
        "colab_type": "text"
      },
      "source": [
        "Here we can notice that first vector explains most of the variation in the data."
      ]
    },
    {
      "cell_type": "code",
      "metadata": {
        "id": "NhWBWjFTYuXc",
        "colab_type": "code",
        "colab": {
          "base_uri": "https://localhost:8080/",
          "height": 198
        },
        "outputId": "1a36250d-03ff-4694-8902-f89a348f7f17"
      },
      "source": [
        "labels = ['SV'+str(i) for i in range(1,3)]\n",
        "\n",
        "svd_df = pd.DataFrame(U[:, 0:2], index=lifeExp_meta[\"continent\"].tolist(), columns=labels).reset_index()\n",
        "svd_df.rename(columns={'index':'continent'}, inplace=True)\n",
        "svd_df.head()"
      ],
      "execution_count": 41,
      "outputs": [
        {
          "output_type": "execute_result",
          "data": {
            "text/html": [
              "<div>\n",
              "<style scoped>\n",
              "    .dataframe tbody tr th:only-of-type {\n",
              "        vertical-align: middle;\n",
              "    }\n",
              "\n",
              "    .dataframe tbody tr th {\n",
              "        vertical-align: top;\n",
              "    }\n",
              "\n",
              "    .dataframe thead th {\n",
              "        text-align: right;\n",
              "    }\n",
              "</style>\n",
              "<table border=\"1\" class=\"dataframe\">\n",
              "  <thead>\n",
              "    <tr style=\"text-align: right;\">\n",
              "      <th></th>\n",
              "      <th>continent</th>\n",
              "      <th>SV1</th>\n",
              "      <th>SV2</th>\n",
              "    </tr>\n",
              "  </thead>\n",
              "  <tbody>\n",
              "    <tr>\n",
              "      <th>0</th>\n",
              "      <td>Africa</td>\n",
              "      <td>-0.003304</td>\n",
              "      <td>-0.124424</td>\n",
              "    </tr>\n",
              "    <tr>\n",
              "      <th>1</th>\n",
              "      <td>Africa</td>\n",
              "      <td>-0.163392</td>\n",
              "      <td>0.073616</td>\n",
              "    </tr>\n",
              "    <tr>\n",
              "      <th>2</th>\n",
              "      <td>Africa</td>\n",
              "      <td>-0.080913</td>\n",
              "      <td>0.002117</td>\n",
              "    </tr>\n",
              "    <tr>\n",
              "      <th>3</th>\n",
              "      <td>Africa</td>\n",
              "      <td>-0.034673</td>\n",
              "      <td>0.151913</td>\n",
              "    </tr>\n",
              "    <tr>\n",
              "      <th>4</th>\n",
              "      <td>Africa</td>\n",
              "      <td>-0.111435</td>\n",
              "      <td>-0.005616</td>\n",
              "    </tr>\n",
              "  </tbody>\n",
              "</table>\n",
              "</div>"
            ],
            "text/plain": [
              "  continent       SV1       SV2\n",
              "0    Africa -0.003304 -0.124424\n",
              "1    Africa -0.163392  0.073616\n",
              "2    Africa -0.080913  0.002117\n",
              "3    Africa -0.034673  0.151913\n",
              "4    Africa -0.111435 -0.005616"
            ]
          },
          "metadata": {
            "tags": []
          },
          "execution_count": 41
        }
      ]
    },
    {
      "cell_type": "code",
      "metadata": {
        "id": "qPpeLleafQN8",
        "colab_type": "code",
        "colab": {
          "base_uri": "https://localhost:8080/",
          "height": 35
        },
        "outputId": "99ffc232-e2e0-471c-b4ec-49747023c713"
      },
      "source": [
        "svd_df.shape"
      ],
      "execution_count": 42,
      "outputs": [
        {
          "output_type": "execute_result",
          "data": {
            "text/plain": [
              "(142, 3)"
            ]
          },
          "metadata": {
            "tags": []
          },
          "execution_count": 42
        }
      ]
    },
    {
      "cell_type": "code",
      "metadata": {
        "id": "gZ2bQN4OfQRB",
        "colab_type": "code",
        "colab": {
          "base_uri": "https://localhost:8080/",
          "height": 288
        },
        "outputId": "4d51e465-5cfc-4f5b-9161-b7d36de557ad"
      },
      "source": [
        "svd_df.describe()"
      ],
      "execution_count": 46,
      "outputs": [
        {
          "output_type": "execute_result",
          "data": {
            "text/html": [
              "<div>\n",
              "<style scoped>\n",
              "    .dataframe tbody tr th:only-of-type {\n",
              "        vertical-align: middle;\n",
              "    }\n",
              "\n",
              "    .dataframe tbody tr th {\n",
              "        vertical-align: top;\n",
              "    }\n",
              "\n",
              "    .dataframe thead th {\n",
              "        text-align: right;\n",
              "    }\n",
              "</style>\n",
              "<table border=\"1\" class=\"dataframe\">\n",
              "  <thead>\n",
              "    <tr style=\"text-align: right;\">\n",
              "      <th></th>\n",
              "      <th>SV1</th>\n",
              "      <th>SV2</th>\n",
              "    </tr>\n",
              "  </thead>\n",
              "  <tbody>\n",
              "    <tr>\n",
              "      <th>count</th>\n",
              "      <td>1.420000e+02</td>\n",
              "      <td>1.420000e+02</td>\n",
              "    </tr>\n",
              "    <tr>\n",
              "      <th>mean</th>\n",
              "      <td>-2.062122e-17</td>\n",
              "      <td>1.002719e-16</td>\n",
              "    </tr>\n",
              "    <tr>\n",
              "      <th>std</th>\n",
              "      <td>8.421519e-02</td>\n",
              "      <td>8.421519e-02</td>\n",
              "    </tr>\n",
              "    <tr>\n",
              "      <th>min</th>\n",
              "      <td>-1.720777e-01</td>\n",
              "      <td>-2.259003e-01</td>\n",
              "    </tr>\n",
              "    <tr>\n",
              "      <th>25%</th>\n",
              "      <td>-7.304805e-02</td>\n",
              "      <td>-6.391632e-02</td>\n",
              "    </tr>\n",
              "    <tr>\n",
              "      <th>50%</th>\n",
              "      <td>9.905106e-04</td>\n",
              "      <td>2.322110e-03</td>\n",
              "    </tr>\n",
              "    <tr>\n",
              "      <th>75%</th>\n",
              "      <td>7.929859e-02</td>\n",
              "      <td>6.025766e-02</td>\n",
              "    </tr>\n",
              "    <tr>\n",
              "      <th>max</th>\n",
              "      <td>1.283310e-01</td>\n",
              "      <td>2.340122e-01</td>\n",
              "    </tr>\n",
              "  </tbody>\n",
              "</table>\n",
              "</div>"
            ],
            "text/plain": [
              "                SV1           SV2\n",
              "count  1.420000e+02  1.420000e+02\n",
              "mean  -2.062122e-17  1.002719e-16\n",
              "std    8.421519e-02  8.421519e-02\n",
              "min   -1.720777e-01 -2.259003e-01\n",
              "25%   -7.304805e-02 -6.391632e-02\n",
              "50%    9.905106e-04  2.322110e-03\n",
              "75%    7.929859e-02  6.025766e-02\n",
              "max    1.283310e-01  2.340122e-01"
            ]
          },
          "metadata": {
            "tags": []
          },
          "execution_count": 46
        }
      ]
    },
    {
      "cell_type": "code",
      "metadata": {
        "id": "7BdZaonVfQT4",
        "colab_type": "code",
        "colab": {
          "base_uri": "https://localhost:8080/",
          "height": 35
        },
        "outputId": "119f07d8-f1ae-4e2d-91cd-0d8be61b3465"
      },
      "source": [
        "svd_df.continent.unique().tolist()"
      ],
      "execution_count": 47,
      "outputs": [
        {
          "output_type": "execute_result",
          "data": {
            "text/plain": [
              "['Africa', 'Americas', 'Asia', 'Europe', 'Oceania']"
            ]
          },
          "metadata": {
            "tags": []
          },
          "execution_count": 47
        }
      ]
    },
    {
      "cell_type": "code",
      "metadata": {
        "id": "TzoL2vcHfQWd",
        "colab_type": "code",
        "colab": {
          "base_uri": "https://localhost:8080/",
          "height": 525
        },
        "outputId": "7f91abd7-51a6-4744-e873-fab9bbfb7e45"
      },
      "source": [
        "plt.figure(figsize=[16,8])\n",
        "\n",
        "colour_dict = dict({\n",
        "    'Africa': 'Black',\n",
        "    'Americas': 'lime',\n",
        "    'Asia': 'orange',\n",
        "    'Europe': 'Red',\n",
        "    'Oceania': 'Blue'\n",
        "})\n",
        "\n",
        "sns.scatterplot(x='SV1', \n",
        "                y='SV2',\n",
        "                hue='continent',\n",
        "                palette=colour_dict,\n",
        "                data=svd_df,\n",
        "                s=200,\n",
        "                alpha=0.7)\n",
        "\n",
        "plt.xlabel('SV 1: {0}%'.format(variance[0]*100), fontsize=21)\n",
        "plt.ylabel('SV 2: {0}%'.format(variance[1]*100), fontsize=21)"
      ],
      "execution_count": 59,
      "outputs": [
        {
          "output_type": "execute_result",
          "data": {
            "text/plain": [
              "Text(0, 0.5, 'SV 2: 5.6000000000000005%')"
            ]
          },
          "metadata": {
            "tags": []
          },
          "execution_count": 59
        },
        {
          "output_type": "display_data",
          "data": {
            "image/png": "[encoded data removed]",
            "text/plain": [
              "<Figure size 1152x576 with 1 Axes>"
            ]
          },
          "metadata": {
            "tags": [],
            "needs_background": "light"
          }
        }
      ]
    },
    {
      "cell_type": "code",
      "metadata": {
        "id": "OgKlKWACh3_E",
        "colab_type": "code",
        "colab": {}
      },
      "source": [
        ""
      ],
      "execution_count": null,
      "outputs": []
    },
    {
      "cell_type": "code",
      "metadata": {
        "id": "OVjeFJ63h4Cj",
        "colab_type": "code",
        "colab": {}
      },
      "source": [
        ""
      ],
      "execution_count": null,
      "outputs": []
    }
  ]
}