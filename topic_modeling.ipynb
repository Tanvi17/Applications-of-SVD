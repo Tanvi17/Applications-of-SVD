{
  "nbformat": 4,
  "nbformat_minor": 0,
  "metadata": {
    "colab": {
      "name": "topic_modeling.ipynb",
      "provenance": [],
      "authorship_tag": "ABX9TyPwFXNaeXe+bHN5PpwcwXmO"
    },
    "kernelspec": {
      "name": "python3",
      "display_name": "Python 3"
    }
  },
  "cells": [
    {
      "cell_type": "markdown",
      "metadata": {
        "id": "vexg3oKXkO9y",
        "colab_type": "text"
      },
      "source": [
        "The output of a topic model actually reflects the ability to cluster for the corpus. This is because documents with a similar topic probability distribution can be grouped together. Nonetheless, a topic model is not only a clustering algorithm. In contrast to other black-box algorithms, a topic model can interpret the clustering results by the word probability distributions over topics. Meanwhile, it allows data to come from a mixture of topics rather than from only one topic. These characteristics may be crucial for various applications.\n",
        "\n",
        "\n",
        "**text source:** *An overview of topic modeling and its current applications in bioinformatics* Lin Liu, Lin Tang, Wen Dong, Shaowen Yao & Wei Zhou"
      ]
    },
    {
      "cell_type": "code",
      "metadata": {
        "id": "LzU2qbMU7V0F",
        "colab_type": "code",
        "colab": {}
      },
      "source": [
        "from sklearn.datasets import fetch_20newsgroups\n",
        "from sklearn.feature_extraction.text import CountVectorizer, TfidfVectorizer\n",
        "from sklearn import decomposition\n",
        "import numpy as np\n",
        "import matplotlib.pyplot as plt\n",
        "\n",
        "%matplotlib inline"
      ],
      "execution_count": 1,
      "outputs": []
    },
    {
      "cell_type": "code",
      "metadata": {
        "id": "XEEmXQOv_O3m",
        "colab_type": "code",
        "colab": {}
      },
      "source": [
        "categories = ['alt.atheism', 'talk.religion.misc', 'comp.graphics', 'sci.space']\n",
        "remove = ('headers', 'footers', 'quotes')"
      ],
      "execution_count": 2,
      "outputs": []
    },
    {
      "cell_type": "code",
      "metadata": {
        "id": "AHhD15wePdff",
        "colab_type": "code",
        "colab": {
          "base_uri": "https://localhost:8080/",
          "height": 69
        },
        "outputId": "68e1b875-f27b-44ea-b315-33b8069f587c"
      },
      "source": [
        "data = fetch_20newsgroups(subset='train', categories=categories, remove=remove)\n",
        "data.keys()"
      ],
      "execution_count": 3,
      "outputs": [
        {
          "output_type": "stream",
          "text": [
            "Downloading 20news dataset. This may take a few minutes.\n",
            "Downloading dataset from https://ndownloader.figshare.com/files/5975967 (14 MB)\n"
          ],
          "name": "stderr"
        },
        {
          "output_type": "execute_result",
          "data": {
            "text/plain": [
              "dict_keys(['data', 'filenames', 'target_names', 'target', 'DESCR'])"
            ]
          },
          "metadata": {
            "tags": []
          },
          "execution_count": 3
        }
      ]
    },
    {
      "cell_type": "code",
      "metadata": {
        "id": "OsvXSr25QUuv",
        "colab_type": "code",
        "colab": {
          "base_uri": "https://localhost:8080/",
          "height": 69
        },
        "outputId": "ff3cb379-1e4d-484e-e3d2-25b92a610df5"
      },
      "source": [
        "print('Data:', len(data.data))\n",
        "print('Target:', len(data.target_names), '\\n', data.target_names)"
      ],
      "execution_count": 4,
      "outputs": [
        {
          "output_type": "stream",
          "text": [
            "Data: 2034\n",
            "Target: 4 \n",
            " ['alt.atheism', 'comp.graphics', 'sci.space', 'talk.religion.misc']\n"
          ],
          "name": "stdout"
        }
      ]
    },
    {
      "cell_type": "code",
      "metadata": {
        "id": "RPEPQhPI_P8_",
        "colab_type": "code",
        "colab": {}
      },
      "source": [
        "# train_newsgroup = fetch_20newsgroups(subset='train', categories=categories, remove=remove)\n",
        "# test_newsgroup = fetch_20newsgroups(subset='test', categories=categories, remove=remove)"
      ],
      "execution_count": 5,
      "outputs": []
    },
    {
      "cell_type": "code",
      "metadata": {
        "id": "4Zm5iRlWBqJ-",
        "colab_type": "code",
        "colab": {
          "base_uri": "https://localhost:8080/",
          "height": 622
        },
        "outputId": "c35a9a00-90e5-434f-e07e-e2e07ac83775"
      },
      "source": [
        "print(\"\\n\".join(data.data[:3]))"
      ],
      "execution_count": 6,
      "outputs": [
        {
          "output_type": "stream",
          "text": [
            "Hi,\n",
            "\n",
            "I've noticed that if you only save a model (with all your mapping planes\n",
            "positioned carefully) to a .3DS file that when you reload it after restarting\n",
            "3DS, they are given a default position and orientation.  But if you save\n",
            "to a .PRJ file their positions/orientation are preserved.  Does anyone\n",
            "know why this information is not stored in the .3DS file?  Nothing is\n",
            "explicitly said in the manual about saving texture rules in the .PRJ file. \n",
            "I'd like to be able to read the texture rule information, does anyone have \n",
            "the format for the .PRJ file?\n",
            "\n",
            "Is the .CEL file format available from somewhere?\n",
            "\n",
            "Rych\n",
            "\n",
            "\n",
            "Seems to be, barring evidence to the contrary, that Koresh was simply\n",
            "another deranged fanatic who thought it neccessary to take a whole bunch of\n",
            "folks with him, children and all, to satisfy his delusional mania. Jim\n",
            "Jones, circa 1993.\n",
            "\n",
            "\n",
            "Nope - fruitcakes like Koresh have been demonstrating such evil corruption\n",
            "for centuries.\n",
            "\n",
            " >In article <1993Apr19.020359.26996@sq.sq.com>, msb@sq.sq.com (Mark Brader) \n",
            "\n",
            "MB>                                                             So the\n",
            "MB> 1970 figure seems unlikely to actually be anything but a perijove.\n",
            "\n",
            "JG>Sorry, _perijoves_...I'm not used to talking this language.\n",
            "\n",
            "Couldn't we just say periapsis or apoapsis?\n",
            "\n",
            " \n"
          ],
          "name": "stdout"
        }
      ]
    },
    {
      "cell_type": "code",
      "metadata": {
        "id": "5vlJUFZqZX_I",
        "colab_type": "code",
        "colab": {}
      },
      "source": [
        "def show_top_words(feature_names, model, n_top_words):\n",
        "  for i, topic in enumerate(model.components_):\n",
        "    show = \"Topic #%d: \" % i\n",
        "    show += \" \".join([feature_names[j] for j in topic.argsort()[:-n_top_words-1:-1]])\n",
        "    print(show)"
      ],
      "execution_count": 7,
      "outputs": []
    },
    {
      "cell_type": "code",
      "metadata": {
        "id": "x2FDY689HXjv",
        "colab_type": "code",
        "colab": {}
      },
      "source": [
        "no_topics = 20\n",
        "no_features = 1000"
      ],
      "execution_count": 16,
      "outputs": []
    },
    {
      "cell_type": "markdown",
      "metadata": {
        "id": "JPO9w4UNSRQe",
        "colab_type": "text"
      },
      "source": [
        "### **Non-negative Matrix Factorization (NMF)**\n",
        "linear-algebric model"
      ]
    },
    {
      "cell_type": "code",
      "metadata": {
        "id": "_4_3-BLhCOrN",
        "colab_type": "code",
        "colab": {
          "base_uri": "https://localhost:8080/",
          "height": 69
        },
        "outputId": "9c9df584-1b91-40e0-826f-dd5899505425"
      },
      "source": [
        "tfidf_vectorizer = TfidfVectorizer(max_df=0.95, min_df=2, max_features=no_features, stop_words='english')\n",
        "%time tfidf = tfidf_vectorizer.fit_transform(data.data) # matrix of (documents, vocab)\n",
        "tfidf.shape"
      ],
      "execution_count": 17,
      "outputs": [
        {
          "output_type": "stream",
          "text": [
            "CPU times: user 334 ms, sys: 134 µs, total: 334 ms\n",
            "Wall time: 337 ms\n"
          ],
          "name": "stdout"
        },
        {
          "output_type": "execute_result",
          "data": {
            "text/plain": [
              "(2034, 1000)"
            ]
          },
          "metadata": {
            "tags": []
          },
          "execution_count": 17
        }
      ]
    },
    {
      "cell_type": "code",
      "metadata": {
        "id": "yyDQtNXyU8Zq",
        "colab_type": "code",
        "colab": {
          "base_uri": "https://localhost:8080/",
          "height": 52
        },
        "outputId": "da6e2404-06b3-4e60-8830-88e28982e7cb"
      },
      "source": [
        "%time nmf = decomposition.NMF(n_components=no_topics, random_state=0, alpha=.1, l1_ratio=.5, init='nndsvd').fit(tfidf)"
      ],
      "execution_count": 27,
      "outputs": [
        {
          "output_type": "stream",
          "text": [
            "CPU times: user 394 ms, sys: 150 ms, total: 544 ms\n",
            "Wall time: 376 ms\n"
          ],
          "name": "stdout"
        }
      ]
    },
    {
      "cell_type": "code",
      "metadata": {
        "id": "OuyOd2CyU9BX",
        "colab_type": "code",
        "colab": {
          "base_uri": "https://localhost:8080/",
          "height": 363
        },
        "outputId": "c77bd329-9f03-4ab2-de68-3bdfad1e9a15"
      },
      "source": [
        "tfidf_features = tfidf_vectorizer.get_feature_names()\n",
        "show_top_words(tfidf_features, nmf, 10)"
      ],
      "execution_count": 28,
      "outputs": [
        {
          "output_type": "stream",
          "text": [
            "Topic #0: people like good time say way make religion really life\n",
            "Topic #1: graphics comp computer 3d package book library good group help\n",
            "Topic #2: space nasa shuttle launch station orbit moon lunar earth sci\n",
            "Topic #3: god believe atheism satan tells belief exist existence bible faith\n",
            "Topic #4: thanks advance mail hi help looking email appreciated know post\n",
            "Topic #5: objective morality moral values natural science claim freedom animals word\n",
            "Topic #6: edu university mac pub michael cs email send info class\n",
            "Topic #7: files file image format program gif use ftp tiff images\n",
            "Topic #8: jesus christian christians christ bible christianity sin faith love law\n",
            "Topic #9: com bob said stay away little really info material bobby\n",
            "Topic #10: does know anybody exactly saying sure heard expected simply ftp\n",
            "Topic #11: right hear mind sure nice wrong tell finally people let\n",
            "Topic #12: think don animals know wouldn try things read little posting\n",
            "Topic #13: mode card vesa vga driver windows color video 256 colors\n",
            "Topic #14: koresh fbi evidence did children david government followers killed dead\n",
            "Topic #15: ve got tried times explain hear seen question heard 50\n",
            "Topic #16: just oh like old mean lot look couldn work newsgroup\n",
            "Topic #17: software level process shuttle flight unix engineering mac systems ibm\n",
            "Topic #18: kent cheers agree won religion interested case jews statement words\n",
            "Topic #19: points algorithm polygon point looking code plane line reference method\n"
          ],
          "name": "stdout"
        }
      ]
    },
    {
      "cell_type": "markdown",
      "metadata": {
        "id": "UbHM2_glUFhf",
        "colab_type": "text"
      },
      "source": [
        "### **Latent Dirichliet Allocation (LDA)**\n",
        "probabilistic generative model"
      ]
    },
    {
      "cell_type": "code",
      "metadata": {
        "id": "zBfh45ekCOw2",
        "colab_type": "code",
        "colab": {
          "base_uri": "https://localhost:8080/",
          "height": 69
        },
        "outputId": "04760d6e-c55b-4b2b-dac9-9e9b2fff5e44"
      },
      "source": [
        "tf_vectorizer = CountVectorizer(max_df=0.95, min_df=2, max_features=no_features, stop_words='english')\n",
        "%time tf = tf_vectorizer.fit_transform(data.data)\n",
        "tf.shape"
      ],
      "execution_count": 20,
      "outputs": [
        {
          "output_type": "stream",
          "text": [
            "CPU times: user 334 ms, sys: 959 µs, total: 335 ms\n",
            "Wall time: 336 ms\n"
          ],
          "name": "stdout"
        },
        {
          "output_type": "execute_result",
          "data": {
            "text/plain": [
              "(2034, 1000)"
            ]
          },
          "metadata": {
            "tags": []
          },
          "execution_count": 20
        }
      ]
    },
    {
      "cell_type": "code",
      "metadata": {
        "id": "asxeGTbfXYS5",
        "colab_type": "code",
        "colab": {
          "base_uri": "https://localhost:8080/",
          "height": 52
        },
        "outputId": "5817aa88-b9c7-45d8-840e-eb12732291d3"
      },
      "source": [
        "%time lda = decomposition.LatentDirichletAllocation(n_components=no_topics, max_iter=5, learning_method='online', learning_offset=50.,random_state=0).fit(tf)"
      ],
      "execution_count": 21,
      "outputs": [
        {
          "output_type": "stream",
          "text": [
            "CPU times: user 4.36 s, sys: 1.18 s, total: 5.54 s\n",
            "Wall time: 4.15 s\n"
          ],
          "name": "stdout"
        }
      ]
    },
    {
      "cell_type": "code",
      "metadata": {
        "id": "fIRUuG-nXY7Y",
        "colab_type": "code",
        "colab": {
          "base_uri": "https://localhost:8080/",
          "height": 363
        },
        "outputId": "be7c06a8-f115-4f5e-d190-218d7a475808"
      },
      "source": [
        "tf_features = tf_vectorizer.get_feature_names()\n",
        "show_top_words(tf_features, lda, 10)"
      ],
      "execution_count": 22,
      "outputs": [
        {
          "output_type": "stream",
          "text": [
            "Topic #0: mode cheers kent spacecraft memory time order interested long cross\n",
            "Topic #1: law matthew 10 john 00 van dr 16 25 20\n",
            "Topic #2: values value driver vesa science rules held objective nature include\n",
            "Topic #3: sky pictures look thank significant doubt nice long idea venus\n",
            "Topic #4: street ago years public request reading communications washington going dc\n",
            "Topic #5: 000 100 200 observations 300 payload planet km usa 40\n",
            "Topic #6: radius p2 p3 p1 sin define return 60 include make\n",
            "Topic #7: post thread key issues lines long mr posts articles looking\n",
            "Topic #8: edu gif mac windows works won michael ibm ideas class\n",
            "Topic #9: god jesus bible christian does faith believe belief christians word\n",
            "Topic #10: just new like year cost said years don time problem\n",
            "Topic #11: nasa center dc washington news research space ames funding new\n",
            "Topic #12: objective morality standard word science information observations russian basis defined\n",
            "Topic #13: image jpeg software file program color files gif use bit\n",
            "Topic #14: argument conclusion fallacy true example false valid ad form logic\n",
            "Topic #15: people don just think like know say does good time\n",
            "Topic #16: islam islamic muslims law statements secular michael follow clear base\n",
            "Topic #17: edu graphics image pub mail ftp available send data images\n",
            "Topic #18: card rockets 50 engines rocket company polygon appreciated video 000\n",
            "Topic #19: space nasa data launch earth satellite orbit shuttle lunar mission\n"
          ],
          "name": "stdout"
        }
      ]
    },
    {
      "cell_type": "markdown",
      "metadata": {
        "id": "gJtoQcbJIzJx",
        "colab_type": "text"
      },
      "source": [
        "From the above findings we can say that NMF was able to find more meaningful topics than LDA from the 20 Newsgroups dataset."
      ]
    },
    {
      "cell_type": "code",
      "metadata": {
        "id": "jI_P8CjGJ7xT",
        "colab_type": "code",
        "colab": {}
      },
      "source": [
        ""
      ],
      "execution_count": null,
      "outputs": []
    }
  ]
}